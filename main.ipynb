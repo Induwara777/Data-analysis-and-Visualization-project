{
 "cells": [
  {
   "cell_type": "markdown",
   "id": "b2412e04",
   "metadata": {},
   "source": [
    "# Import Library"
   ]
  },
  {
   "cell_type": "code",
   "execution_count": 58,
   "id": "bf281b26",
   "metadata": {},
   "outputs": [],
   "source": [
    "import pandas as pd\n",
    "import numpy as np\n",
    "import matplotlib.pyplot as plt\n",
    "import seaborn as sns"
   ]
  },
  {
   "cell_type": "markdown",
   "id": "fcbdec09",
   "metadata": {},
   "source": [
    "# Load data set"
   ]
  },
  {
   "cell_type": "code",
   "execution_count": 59,
   "id": "0863f857",
   "metadata": {},
   "outputs": [
    {
     "data": {
      "text/html": [
       "<div>\n",
       "<style scoped>\n",
       "    .dataframe tbody tr th:only-of-type {\n",
       "        vertical-align: middle;\n",
       "    }\n",
       "\n",
       "    .dataframe tbody tr th {\n",
       "        vertical-align: top;\n",
       "    }\n",
       "\n",
       "    .dataframe thead th {\n",
       "        text-align: right;\n",
       "    }\n",
       "</style>\n",
       "<table border=\"1\" class=\"dataframe\">\n",
       "  <thead>\n",
       "    <tr style=\"text-align: right;\">\n",
       "      <th></th>\n",
       "      <th>athlete_id</th>\n",
       "      <th>name</th>\n",
       "      <th>born_date</th>\n",
       "      <th>born_city</th>\n",
       "      <th>born_region</th>\n",
       "      <th>born_country</th>\n",
       "      <th>NOC</th>\n",
       "      <th>height_cm</th>\n",
       "      <th>weight_kg</th>\n",
       "      <th>died_date</th>\n",
       "    </tr>\n",
       "  </thead>\n",
       "  <tbody>\n",
       "    <tr>\n",
       "      <th>0</th>\n",
       "      <td>1</td>\n",
       "      <td>Jean-François Blanchy</td>\n",
       "      <td>1886-12-12</td>\n",
       "      <td>Bordeaux</td>\n",
       "      <td>Gironde</td>\n",
       "      <td>FRA</td>\n",
       "      <td>France</td>\n",
       "      <td>NaN</td>\n",
       "      <td>NaN</td>\n",
       "      <td>1960-10-02</td>\n",
       "    </tr>\n",
       "    <tr>\n",
       "      <th>1</th>\n",
       "      <td>2</td>\n",
       "      <td>Arnaud Boetsch</td>\n",
       "      <td>1969-04-01</td>\n",
       "      <td>Meulan</td>\n",
       "      <td>Yvelines</td>\n",
       "      <td>FRA</td>\n",
       "      <td>France</td>\n",
       "      <td>183.0</td>\n",
       "      <td>76.0</td>\n",
       "      <td>NaN</td>\n",
       "    </tr>\n",
       "    <tr>\n",
       "      <th>2</th>\n",
       "      <td>3</td>\n",
       "      <td>Jean Borotra</td>\n",
       "      <td>1898-08-13</td>\n",
       "      <td>Biarritz</td>\n",
       "      <td>Pyrénées-Atlantiques</td>\n",
       "      <td>FRA</td>\n",
       "      <td>France</td>\n",
       "      <td>183.0</td>\n",
       "      <td>76.0</td>\n",
       "      <td>1994-07-17</td>\n",
       "    </tr>\n",
       "    <tr>\n",
       "      <th>3</th>\n",
       "      <td>4</td>\n",
       "      <td>Jacques Brugnon</td>\n",
       "      <td>1895-05-11</td>\n",
       "      <td>Paris VIIIe</td>\n",
       "      <td>Paris</td>\n",
       "      <td>FRA</td>\n",
       "      <td>France</td>\n",
       "      <td>168.0</td>\n",
       "      <td>64.0</td>\n",
       "      <td>1978-03-20</td>\n",
       "    </tr>\n",
       "    <tr>\n",
       "      <th>4</th>\n",
       "      <td>5</td>\n",
       "      <td>Albert Canet</td>\n",
       "      <td>1878-04-17</td>\n",
       "      <td>Wandsworth</td>\n",
       "      <td>England</td>\n",
       "      <td>GBR</td>\n",
       "      <td>France</td>\n",
       "      <td>NaN</td>\n",
       "      <td>NaN</td>\n",
       "      <td>1930-07-25</td>\n",
       "    </tr>\n",
       "  </tbody>\n",
       "</table>\n",
       "</div>"
      ],
      "text/plain": [
       "   athlete_id                   name   born_date    born_city  \\\n",
       "0           1  Jean-François Blanchy  1886-12-12     Bordeaux   \n",
       "1           2         Arnaud Boetsch  1969-04-01       Meulan   \n",
       "2           3           Jean Borotra  1898-08-13     Biarritz   \n",
       "3           4        Jacques Brugnon  1895-05-11  Paris VIIIe   \n",
       "4           5           Albert Canet  1878-04-17   Wandsworth   \n",
       "\n",
       "            born_region born_country     NOC  height_cm  weight_kg   died_date  \n",
       "0               Gironde          FRA  France        NaN        NaN  1960-10-02  \n",
       "1              Yvelines          FRA  France      183.0       76.0         NaN  \n",
       "2  Pyrénées-Atlantiques          FRA  France      183.0       76.0  1994-07-17  \n",
       "3                 Paris          FRA  France      168.0       64.0  1978-03-20  \n",
       "4               England          GBR  France        NaN        NaN  1930-07-25  "
      ]
     },
     "execution_count": 59,
     "metadata": {},
     "output_type": "execute_result"
    }
   ],
   "source": [
    "datafile = pd.read_csv(\"olympics.csv\")\n",
    "datafile.head(5)"
   ]
  },
  {
   "cell_type": "markdown",
   "id": "63270338",
   "metadata": {},
   "source": [
    "# Information of dataset"
   ]
  },
  {
   "cell_type": "markdown",
   "id": "99701a88",
   "metadata": {},
   "source": [
    "#### Dimension"
   ]
  },
  {
   "cell_type": "code",
   "execution_count": 60,
   "id": "900bbf05",
   "metadata": {},
   "outputs": [
    {
     "data": {
      "text/plain": [
       "(145500, 10)"
      ]
     },
     "execution_count": 60,
     "metadata": {},
     "output_type": "execute_result"
    }
   ],
   "source": [
    "datafile.shape"
   ]
  },
  {
   "cell_type": "markdown",
   "id": "41a80ae6",
   "metadata": {},
   "source": [
    "* we can say that ` there are 145500 records across the 10 variables `"
   ]
  },
  {
   "cell_type": "markdown",
   "id": "a3b04c02",
   "metadata": {},
   "source": [
    "#### Observation count"
   ]
  },
  {
   "cell_type": "code",
   "execution_count": 61,
   "id": "8c85e887",
   "metadata": {},
   "outputs": [
    {
     "data": {
      "text/plain": [
       "1455000"
      ]
     },
     "execution_count": 61,
     "metadata": {},
     "output_type": "execute_result"
    }
   ],
   "source": [
    "datafile.size"
   ]
  },
  {
   "cell_type": "markdown",
   "id": "7e5aecf4",
   "metadata": {},
   "source": [
    "* In this dataset contains `1455000 observation `"
   ]
  },
  {
   "cell_type": "markdown",
   "id": "9959631f",
   "metadata": {},
   "source": [
    "#### Colunm names"
   ]
  },
  {
   "cell_type": "code",
   "execution_count": 62,
   "id": "73f70633",
   "metadata": {},
   "outputs": [
    {
     "data": {
      "text/plain": [
       "Index(['athlete_id', 'name', 'born_date', 'born_city', 'born_region',\n",
       "       'born_country', 'NOC', 'height_cm', 'weight_kg', 'died_date'],\n",
       "      dtype='object')"
      ]
     },
     "execution_count": 62,
     "metadata": {},
     "output_type": "execute_result"
    }
   ],
   "source": [
    "datafile.columns"
   ]
  },
  {
   "cell_type": "markdown",
   "id": "513f5a10",
   "metadata": {},
   "source": [
    "* colunm names : `'athlete_id', 'name', 'born_date', 'born_city', 'born_region' ,'born_country', 'NOC', 'height_cm', 'weight_kg', 'died_date' `\n",
    "\n",
    "* column count = 10"
   ]
  },
  {
   "cell_type": "markdown",
   "id": "ccdc7a09",
   "metadata": {},
   "source": [
    "#### data types of each columns"
   ]
  },
  {
   "cell_type": "code",
   "execution_count": 63,
   "id": "38550118",
   "metadata": {},
   "outputs": [
    {
     "name": "stdout",
     "output_type": "stream",
     "text": [
      "<class 'pandas.core.frame.DataFrame'>\n",
      "RangeIndex: 145500 entries, 0 to 145499\n",
      "Data columns (total 10 columns):\n",
      " #   Column        Non-Null Count   Dtype  \n",
      "---  ------        --------------   -----  \n",
      " 0   athlete_id    145500 non-null  int64  \n",
      " 1   name          145500 non-null  object \n",
      " 2   born_date     143693 non-null  object \n",
      " 3   born_city     110908 non-null  object \n",
      " 4   born_region   110908 non-null  object \n",
      " 5   born_country  110908 non-null  object \n",
      " 6   NOC           145499 non-null  object \n",
      " 7   height_cm     106651 non-null  float64\n",
      " 8   weight_kg     102070 non-null  float64\n",
      " 9   died_date     33940 non-null   object \n",
      "dtypes: float64(2), int64(1), object(7)\n",
      "memory usage: 11.1+ MB\n"
     ]
    }
   ],
   "source": [
    "datafile.info()"
   ]
  },
  {
   "cell_type": "markdown",
   "id": "a67ec3fb",
   "metadata": {},
   "source": [
    "* we can see that \n",
    "    * athlete_id    : int\n",
    "    * height_cm ,  weight_kg  : float \n",
    "    * born_date,born_city,born_region,born_country,NOC ,name,died_date  = object\n",
    "\n",
    "* we convert datatype of variable `born_date and died_date ` to `datetime data type`. because it is appropriate for that variables."
   ]
  },
  {
   "cell_type": "markdown",
   "id": "8068f82f",
   "metadata": {},
   "source": [
    "#### convert data types"
   ]
  },
  {
   "cell_type": "code",
   "execution_count": 64,
   "id": "651ae025",
   "metadata": {},
   "outputs": [],
   "source": [
    "datafile[\"born_date\"] = pd.to_datetime(datafile[\"born_date\"])\n",
    "datafile[\"died_date\"] = pd.to_datetime(datafile[\"died_date\"])"
   ]
  },
  {
   "cell_type": "code",
   "execution_count": 65,
   "id": "0cfa2a52",
   "metadata": {},
   "outputs": [
    {
     "name": "stdout",
     "output_type": "stream",
     "text": [
      "<class 'pandas.core.frame.DataFrame'>\n",
      "RangeIndex: 145500 entries, 0 to 145499\n",
      "Data columns (total 10 columns):\n",
      " #   Column        Non-Null Count   Dtype         \n",
      "---  ------        --------------   -----         \n",
      " 0   athlete_id    145500 non-null  int64         \n",
      " 1   name          145500 non-null  object        \n",
      " 2   born_date     143693 non-null  datetime64[ns]\n",
      " 3   born_city     110908 non-null  object        \n",
      " 4   born_region   110908 non-null  object        \n",
      " 5   born_country  110908 non-null  object        \n",
      " 6   NOC           145499 non-null  object        \n",
      " 7   height_cm     106651 non-null  float64       \n",
      " 8   weight_kg     102070 non-null  float64       \n",
      " 9   died_date     33940 non-null   datetime64[ns]\n",
      "dtypes: datetime64[ns](2), float64(2), int64(1), object(5)\n",
      "memory usage: 11.1+ MB\n"
     ]
    }
   ],
   "source": [
    "datafile.info()"
   ]
  },
  {
   "cell_type": "markdown",
   "id": "51fe7859",
   "metadata": {},
   "source": [
    "# Checking Missing values of data set"
   ]
  },
  {
   "cell_type": "markdown",
   "id": "4f986433",
   "metadata": {},
   "source": [
    "#### all Missing values count"
   ]
  },
  {
   "cell_type": "code",
   "execution_count": 66,
   "id": "c41d3090",
   "metadata": {},
   "outputs": [
    {
     "data": {
      "text/plain": [
       "299423"
      ]
     },
     "execution_count": 66,
     "metadata": {},
     "output_type": "execute_result"
    }
   ],
   "source": [
    "sum(datafile.isna().sum())"
   ]
  },
  {
   "cell_type": "markdown",
   "id": "3b9607ee",
   "metadata": {},
   "source": [
    "* All missing values count : `299423`"
   ]
  },
  {
   "cell_type": "markdown",
   "id": "10b6fe2a",
   "metadata": {},
   "source": [
    "#### missing values for each column"
   ]
  },
  {
   "cell_type": "code",
   "execution_count": 67,
   "id": "7228887d",
   "metadata": {},
   "outputs": [
    {
     "data": {
      "text/plain": [
       "athlete_id           0\n",
       "name                 0\n",
       "born_date         1807\n",
       "born_city        34592\n",
       "born_region      34592\n",
       "born_country     34592\n",
       "NOC                  1\n",
       "height_cm        38849\n",
       "weight_kg        43430\n",
       "died_date       111560\n",
       "dtype: int64"
      ]
     },
     "execution_count": 67,
     "metadata": {},
     "output_type": "execute_result"
    }
   ],
   "source": [
    "datafile.isna().sum()"
   ]
  },
  {
   "cell_type": "markdown",
   "id": "2a81e911",
   "metadata": {},
   "source": [
    "* ` column name` : ` missing values count `\n",
    "* athlete_id    :       0\n",
    "* name          :       0\n",
    "* born_date     :    1807\n",
    "* born_city     :   34592\n",
    "* born_region   :   34592\n",
    "* born_country  :   34592\n",
    "* NOC           :       1\n",
    "* height_cm     :   38849\n",
    "* weight_kg     :   43430\n",
    "* died_date     :  111560"
   ]
  },
  {
   "cell_type": "code",
   "execution_count": 68,
   "id": "9551b810",
   "metadata": {},
   "outputs": [
    {
     "data": {
      "text/plain": [
       "array([[     0,      0,   1807,  34592,  34592,  34592,      1,  38849,\n",
       "         43430, 111560]], dtype=int64)"
      ]
     },
     "execution_count": 68,
     "metadata": {},
     "output_type": "execute_result"
    }
   ],
   "source": [
    "missing_dt = pd.DataFrame(datafile.isna().sum())\n",
    "missing_dt = pd.DataFrame(missing_dt.values.reshape(1,10),columns=datafile.columns)\n",
    "\n",
    "missing_dt.loc[:,:].values"
   ]
  },
  {
   "cell_type": "code",
   "execution_count": 69,
   "id": "9e62bc50",
   "metadata": {},
   "outputs": [
    {
     "data": {
      "text/plain": [
       "array([     0,      0,   1807,  34592,  34592,  34592,      1,  38849,\n",
       "        43430, 111560], dtype=int64)"
      ]
     },
     "execution_count": 69,
     "metadata": {},
     "output_type": "execute_result"
    }
   ],
   "source": [
    "missing_dt.loc[:,:].values[0]"
   ]
  },
  {
   "cell_type": "markdown",
   "id": "a2f6b112",
   "metadata": {},
   "source": [
    "#### visualize missing values for each column"
   ]
  },
  {
   "cell_type": "code",
   "execution_count": 70,
   "id": "abb333d5",
   "metadata": {},
   "outputs": [
    {
     "data": {
      "text/plain": [
       "Text(0, 0.5, 'proportion of missing values')"
      ]
     },
     "execution_count": 70,
     "metadata": {},
     "output_type": "execute_result"
    },
    {
     "data": {
      "image/png": "[encoded data removed]",
      "text/plain": [
       "<Figure size 1500x1000 with 1 Axes>"
      ]
     },
     "metadata": {},
     "output_type": "display_data"
    }
   ],
   "source": [
    "plt.figure(figsize=(15,10))\n",
    "plt.bar(datafile.columns, (missing_dt.loc[:,:].values[0]/len(datafile))*100 ,color = \"blue\")\n",
    "plt.yticks(range(0,100,5))\n",
    "plt.title(\"Missing values for each column\")\n",
    "plt.xlabel(\"column names\")\n",
    "plt.ylabel(\"proportion of missing values\")"
   ]
  },
  {
   "cell_type": "markdown",
   "id": "973b2cea",
   "metadata": {},
   "source": [
    "#### drop missing values"
   ]
  },
  {
   "cell_type": "code",
   "execution_count": 73,
   "id": "ce1f1ed2",
   "metadata": {},
   "outputs": [],
   "source": [
    "new_data = datafile.dropna()"
   ]
  },
  {
   "cell_type": "markdown",
   "id": "4cde1b49",
   "metadata": {},
   "source": [
    "* Now no missing values anymore in dataset"
   ]
  },
  {
   "cell_type": "markdown",
   "id": "18003c74",
   "metadata": {},
   "source": [
    "# Extract information from each column"
   ]
  },
  {
   "cell_type": "code",
   "execution_count": 74,
   "id": "0eeb64db",
   "metadata": {},
   "outputs": [
    {
     "data": {
      "text/plain": [
       "Index(['athlete_id', 'name', 'born_date', 'born_city', 'born_region',\n",
       "       'born_country', 'NOC', 'height_cm', 'weight_kg', 'died_date'],\n",
       "      dtype='object')"
      ]
     },
     "execution_count": 74,
     "metadata": {},
     "output_type": "execute_result"
    }
   ],
   "source": [
    "new_data.columns"
   ]
  },
  {
   "cell_type": "markdown",
   "id": "0390eebd",
   "metadata": {},
   "source": [
    "### column : `born_date`"
   ]
  },
  {
   "cell_type": "markdown",
   "id": "9c4c032f",
   "metadata": {},
   "source": [
    "#### Min and max"
   ]
  },
  {
   "cell_type": "code",
   "execution_count": 89,
   "id": "431fadcd",
   "metadata": {},
   "outputs": [
    {
     "data": {
      "text/plain": [
       "(Timestamp('1850-05-07 00:00:00'), Timestamp('2002-04-25 00:00:00'))"
      ]
     },
     "execution_count": 89,
     "metadata": {},
     "output_type": "execute_result"
    }
   ],
   "source": [
    "new_data[\"born_date\"].sort_values().min() , new_data[\"born_date\"].sort_values().max()"
   ]
  },
  {
   "cell_type": "code",
   "execution_count": null,
   "id": "5d06439d",
   "metadata": {},
   "outputs": [],
   "source": []
  },
  {
   "cell_type": "markdown",
   "id": "ebdf013a",
   "metadata": {},
   "source": [
    "* we can see older one's birthday : `1850-05-07`\n",
    "* we can see younger one's birthday : `2002-04-25`"
   ]
  },
  {
   "cell_type": "markdown",
   "id": "b866d114",
   "metadata": {},
   "source": [
    "#### Finding their age and add it to dataframe"
   ]
  },
  {
   "cell_type": "code",
   "execution_count": 105,
   "id": "dca921f5",
   "metadata": {},
   "outputs": [],
   "source": [
    "new_data[\"Age\"] = new_data[\"died_date\"] - new_data[\"born_date\"]"
   ]
  }
 ],
 "metadata": {
  "kernelspec": {
   "display_name": "Python 3",
   "language": "python",
   "name": "python3"
  },
  "language_info": {
   "codemirror_mode": {
    "name": "ipython",
    "version": 3
   },
   "file_extension": ".py",
   "mimetype": "text/x-python",
   "name": "python",
   "nbconvert_exporter": "python",
   "pygments_lexer": "ipython3",
   "version": "3.11.3"
  }
 },
 "nbformat": 4,
 "nbformat_minor": 5
}
